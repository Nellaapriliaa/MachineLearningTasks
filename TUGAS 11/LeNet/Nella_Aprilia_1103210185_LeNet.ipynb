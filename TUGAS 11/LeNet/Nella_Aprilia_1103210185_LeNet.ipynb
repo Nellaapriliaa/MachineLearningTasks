{
  "cells": [
    {
      "cell_type": "markdown",
      "metadata": {
        "id": "view-in-github",
        "colab_type": "text"
      },
      "source": [
        "<a href=\"https://colab.research.google.com/github/Nellaapriliaa/MachineLearningTasks/blob/main/TUGAS%2011/LeNet/Nella_Aprilia_1103210185_LeNet.ipynb\" target=\"_parent\"><img src=\"https://colab.research.google.com/assets/colab-badge.svg\" alt=\"Open In Colab\"/></a>"
      ]
    },
    {
      "cell_type": "markdown",
      "source": [
        "Nama: Nella Aprilia\n",
        "\n",
        "NIM: 1103210185\n",
        "\n",
        "Kelas: TK4504\n",
        "\n",
        "Tugas: 11\n",
        "\n",
        "Dataset: CIFAR-10\n",
        "\n",
        "Model: LeNet"
      ],
      "metadata": {
        "id": "zJvyfy3-yNYM"
      }
    },
    {
      "metadata": {
        "id": "vhUjP5bZyI9Y"
      },
      "cell_type": "markdown",
      "source": [
        "## LeNet-5 Complete Architecture\n",
        "\n",
        "LeNet-5, from the paper Gradient-Based Learning Applied to Document Recognition, is a very efficient convolutional neural network for handwritten character recognition.\n",
        "\n",
        "\n",
        "<a href=\"http://yann.lecun.com/exdb/publis/pdf/lecun-98.pdf\" target=\"_blank\">Paper: <u>Gradient-Based Learning Applied to Document Recognition</u></a>\n",
        "\n",
        "**Authors**: Yann LeCun, Léon Bottou, Yoshua Bengio, and Patrick Haffner<br>\n",
        "**Published in**: Proceedings of the IEEE (1998)\n",
        "\n",
        "## Structure of the LeNet network\n",
        "\n",
        "LeNet5 is a small network, it contains the basic modules of deep learning: convolutional layer, pooling layer, and full link layer. It is the basis of other deep learning models. Here we analyze LeNet5 in depth. At the same time, through example analysis, deepen the understanding of the convolutional layer and pooling layer.\n",
        "\n",
        "![lenet](https://raw.githubusercontent.com/blurred-machine/Data-Science/master/Deep%20Learning%20SOTA/img/lenet-5.png)\n",
        "\n",
        "\n",
        "LeNet-5 Total seven layer , does not comprise an input, each containing a trainable parameters; each layer has a plurality of the Map the Feature , a characteristic of each of the input FeatureMap extracted by means of a convolution filter, and then each FeatureMap There are multiple neurons.\n",
        "\n",
        "![lenet1](https://raw.githubusercontent.com/blurred-machine/Data-Science/master/Deep%20Learning%20SOTA/img/arch.jpg)\n",
        "\n",
        "Detailed explanation of each layer parameter:\n",
        "\n",
        "### **INPUT LAYER**\n",
        "\n",
        "The first is the data INPUT layer. The size of the input image is uniformly normalized to 32 * 32.\n",
        "\n",
        "> Note: This layer does not count as the network structure of LeNet-5. Traditionally, the input layer is not considered as one of the network hierarchy.\n",
        "\n",
        "\n",
        "### **C1 layer-convolutional layer:**\n",
        "- **Input picture**: 32 * 32\n",
        "- **Convolution kernel size**: 5 * 5\n",
        "- **Convolution kernel types**: 6\n",
        "- **Output featuremap size**: 28 * 28 (32-5 + 1) = 28\n",
        "- **Number of neurons**: 28 * 28 * 6\n",
        "- **Trainable parameters**: (5 * 5 + 1) * 6 (5 * 5 = 25 unit parameters and one bias parameter per filter, a total of 6 filters)\n",
        "- **Number of connections**: (5 * 5 + 1) * 6 * 28 * 28 = 122304\n",
        "\n",
        "#### **Detailed description:**\n",
        "- The first convolution operation is performed on the input image (using 6 convolution kernels of size 5 * 5) to obtain 6 C1 feature maps (6 feature maps of size 28 * 28, 32-5 + 1 = 28).\n",
        "\n",
        "- Let's take a look at how many parameters are needed. The size of the convolution kernel is 5 * 5, and there are 6 * (5 * 5 + 1) = 156 parameters in total, where +1 indicates that a kernel has a bias.\n",
        "\n",
        "- For the convolutional layer C1, each pixel in C1 is connected to 5 * 5 pixels and 1 bias in the input image, so there are 156 * 28 * 28 = 122304 connections in total. There are 122,304 connections, but we only need to learn 156 parameters, mainly through weight sharing.\n",
        "\n",
        "\n",
        "### **S2 layer-pooling layer (downsampling layer):**\n",
        "- **Input**: 28 * 28\n",
        "- **Sampling area**: 2 * 2\n",
        "- **Sampling method**: 4 inputs are added, multiplied by a trainable parameter, plus a trainable offset. Results via sigmoid\n",
        "- **Sampling type**: 6\n",
        "- **Output featureMap size**: 14 * 14 (28/2)\n",
        "- **Number of neurons**: 14 * 14 * 6\n",
        "- **Trainable parameters**: 2 * 6 (the weight of the sum + the offset)\n",
        "- **Number of connections**: (2 * 2 + 1) * 6 * 14 * 14\n",
        "- The size of each feature map in S2 is 1/4 of the size of the feature map in C1.\n",
        "\n",
        "#### **Detailed description:**\n",
        "- The pooling operation is followed immediately after the first convolution. Pooling is performed using 2 * 2 kernels, and S2, 6 feature maps of 14 * 14 (28/2 = 14) are obtained.\n",
        "\n",
        "- The pooling layer of S2 is the sum of the pixels in the 2 * 2 area in C1 multiplied by a weight coefficient plus an offset, and then the result is mapped again.\n",
        "\n",
        "- So each pooling core has two training parameters, so there are 2x6 = 12 training parameters, but there are 5x14x14x6 = 5880 connections.\n",
        "\n",
        "\n",
        "### **C3 layer-convolutional layer:**\n",
        "\n",
        "- **Input**: all 6 or several feature map combinations in S2\n",
        "- **Convolution kernel size**: 5 * 5\n",
        "- **Convolution kernel type**: 16\n",
        "- **Output featureMap size**: 10 * 10 (14-5 + 1) = 10\n",
        "- Each feature map in C3 is connected to all 6 or several feature maps in S2, indicating that the feature map of this layer is a different combination of the feature maps extracted from the previous layer.\n",
        "- One way is that the first 6 feature maps of C3 take 3 adjacent feature map subsets in S2 as input. The next 6 feature maps take 4 subsets of neighboring feature maps in S2 as input. The next three take the non-adjacent 4 feature map subsets as input. The last one takes all the feature maps in S2 as input.\n",
        "- **The trainable parameters are**: 6 * (3 * 5 * 5 + 1) + 6 * (4 * 5 * 5 + 1) + 3 * (4 * 5 * 5 + 1) + 1 * (6 * 5 * 5 +1) = 1516\n",
        "- **Number of connections**: 10 * 10 * 1516 = 151600\n",
        "\n",
        "#### **Detailed description:**\n",
        "\n",
        "- After the first pooling, the second convolution, the output of the second convolution is C3, 16 10x10 feature maps, and the size of the convolution kernel is 5 * 5. We know that S2 has 6 14 * 14 feature maps, how to get 16 feature maps from 6 feature maps? Here are the 16 feature maps calculated by the special combination of the feature maps of S2. details as follows:\n",
        "\n",
        "- The first 6 feature maps of C3 (corresponding to the 6th column of the first red box in the figure above) are connected to the 3 feature maps connected to the S2 layer (the first red box in the above figure), and the next 6 feature maps are connected to the S2 layer The 4 feature maps are connected (the second red box in the figure above), the next 3 feature maps are connected with the 4 feature maps that are not connected at the S2 layer, and the last is connected with all the feature maps at the S2 layer. The convolution kernel size is still 5 * 5, so there are 6 * (3 * 5 * 5 + 1) + 6 * (4 * 5 * 5 + 1) + 3 * (4 * 5 * 5 + 1) +1 * (6 * 5 * 5 + 1) = 1516 parameters. The image size is 10 * 10, so there are 151600 connections.\n",
        "\n",
        "![lenet1](https://raw.githubusercontent.com/blurred-machine/Data-Science/master/Deep%20Learning%20SOTA/img/c31.png)\n",
        "\n",
        "- The convolution structure of C3 and the first 3 graphs in S2 is shown below:\n",
        "\n",
        "![lenet1](https://raw.githubusercontent.com/blurred-machine/Data-Science/master/Deep%20Learning%20SOTA/img/c32.png)\n",
        "\n",
        "\n",
        "### **S4 layer-pooling layer (downsampling layer)**\n",
        "- **Input**: 10 * 10\n",
        "- **Sampling area**: 2 * 2\n",
        "- **Sampling method**: 4 inputs are added, multiplied by a trainable parameter, plus a trainable offset. Results via sigmoid\n",
        "- **Sampling type**: 16\n",
        "- **Output featureMap size**: 5 * 5 (10/2)\n",
        "- **Number of neurons**: 5 * 5 * 16 = 400\n",
        "- **Trainable parameters**: 2 * 16 = 32 (the weight of the sum + the offset)\n",
        "- **Number of connections**: 16 * (2 * 2 + 1) * 5 * 5 = 2000\n",
        "- The size of each feature map in S4 is 1/4 of the size of the feature map in C3\n",
        "\n",
        "#### **Detailed description:**\n",
        "- S4 is the pooling layer, the window size is still 2 * 2, a total of 16 feature maps, and the 16 10x10 maps of the C3 layer are pooled in units of 2x2 to obtain 16 5x5 feature maps. This layer has a total of 32 training parameters of 2x16, 5x5x5x16 = 2000 connections.\n",
        "\n",
        "> *The connection is similar to the S2 layer.*\n",
        "\n",
        "### **C5 layer-convolution layer**\n",
        "- **Input**: All 16 unit feature maps of the S4 layer (all connected to s4)\n",
        "- **Convolution kernel size**: 5 * 5\n",
        "- **Convolution kernel type**: 120\n",
        "- **Output featureMap size**: 1 * 1 (5-5 + 1)\n",
        "- **Trainable parameters / connection**: 120 * (16 * 5 * 5 + 1) = 48120\n",
        "\n",
        "#### **Detailed description:**\n",
        "- The C5 layer is a convolutional layer. Since the size of the 16 images of the S4 layer is 5x5, which is the same as the size of the convolution kernel, the size of the image formed after convolution is 1x1. This results in 120 convolution results. Each is connected to the 16 maps on the previous level. So there are (5x5x16 + 1) x120 = 48120 parameters, and there are also 48120 connections. The network structure of the C5 layer is as follows:\n",
        "\n",
        "![lenet1](https://raw.githubusercontent.com/blurred-machine/Data-Science/master/Deep%20Learning%20SOTA/img/c5.png)\n",
        "\n",
        "\n",
        "### **F6 layer-fully connected layer**\n",
        "- **Input**: c5 120-dimensional vector\n",
        "- **Calculation method**: calculate the dot product between the input vector and the weight vector, plus an offset, and the result is output through the sigmoid function.\n",
        "- **Trainable parameters**: 84 * (120 + 1) = 10164\n",
        "\n",
        "#### **Detailed description:**\n",
        "- Layer 6 is a fully connected layer. The F6 layer has 84 nodes, corresponding to a 7x12 bitmap, -1 means white, 1 means black, so the black and white of the bitmap of each symbol corresponds to a code. The training parameters and number of connections for this layer are (120 + 1) x84 = 10164. The ASCII encoding diagram is as follows:\n",
        "\n",
        "![lenet1](https://raw.githubusercontent.com/blurred-machine/Data-Science/master/Deep%20Learning%20SOTA/img/f61.png)\n",
        "\n",
        "- The connection method of the F6 layer is as follows:\n",
        "\n",
        "![lenet1](https://raw.githubusercontent.com/blurred-machine/Data-Science/master/Deep%20Learning%20SOTA/img/f62.png)\n",
        "\n",
        "\n",
        "### **Output layer-fully connected layer**\n",
        "\n",
        "- The output layer is also a fully connected layer, with a total of 10 nodes, which respectively represent the numbers 0 to 9, and if the value of node i is 0, the result of network recognition is the number i. A radial basis function (RBF) network connection is used. Assuming x is the input of the previous layer and y is the output of the RBF, the calculation of the RBF output is:\n",
        "\n",
        "![lenet1](https://raw.githubusercontent.com/blurred-machine/Data-Science/master/Deep%20Learning%20SOTA/img/81.png)\n",
        "\n",
        "- The value of the above formula w_ij is determined by the bitmap encoding of i, where i ranges from 0 to 9, and j ranges from 0 to 7 * 12-1. The closer the value of the RBF output is to 0, the closer it is to i, that is, the closer to the ASCII encoding figure of i, it means that the recognition result input by the current network is the character i. This layer has 84x10 = 840 parameters and connections.\n",
        "\n",
        "![lenet1](https://raw.githubusercontent.com/blurred-machine/Data-Science/master/Deep%20Learning%20SOTA/img/82.png)\n",
        "\n",
        "\n",
        "## **Summary**\n",
        "* LeNet-5 is a very efficient convolutional neural network for handwritten character recognition.\n",
        "* Convolutional neural networks can make good use of the structural information of images.\n",
        "* The convolutional layer has fewer parameters, which is also determined by the main characteristics of the convolutional layer, that is, local connection and shared weights."
      ]
    },
    {
      "cell_type": "markdown",
      "source": [
        "**Import Library**"
      ],
      "metadata": {
        "id": "ae9czSqe1vvN"
      }
    },
    {
      "cell_type": "code",
      "source": [
        "import numpy as np\n",
        "import matplotlib.pyplot as plt\n",
        "from keras.datasets import cifar10\n",
        "from keras.models import Sequential\n",
        "from keras.layers import Conv2D, MaxPooling2D, Flatten, Dense\n",
        "from keras.utils import to_categorical\n"
      ],
      "metadata": {
        "id": "9C_ViL-411tD"
      },
      "execution_count": null,
      "outputs": []
    },
    {
      "cell_type": "markdown",
      "source": [
        "**Persiapkan Data**"
      ],
      "metadata": {
        "id": "n_w6HL0w14K9"
      }
    },
    {
      "cell_type": "code",
      "source": [
        "# Load dataset\n",
        "(X_train, y_train), (X_test, y_test) = cifar10.load_data()\n",
        "\n",
        "# Normalisasi data\n",
        "X_train = X_train.astype('float32') / 255\n",
        "X_test = X_test.astype('float32') / 255\n",
        "\n",
        "# One-hot encoding target labels\n",
        "y_train = to_categorical(y_train, 10)\n",
        "y_test = to_categorical(y_test, 10)"
      ],
      "metadata": {
        "colab": {
          "base_uri": "https://localhost:8080/"
        },
        "id": "MmDFz1Si14V9",
        "outputId": "52f39220-106b-4579-ed7d-73119df044e8"
      },
      "execution_count": null,
      "outputs": [
        {
          "output_type": "stream",
          "name": "stdout",
          "text": [
            "Downloading data from https://www.cs.toronto.edu/~kriz/cifar-10-python.tar.gz\n",
            "170498071/170498071 [==============================] - 3s 0us/step\n"
          ]
        }
      ]
    },
    {
      "cell_type": "markdown",
      "source": [
        "**Membangun dengan Model LeNet**"
      ],
      "metadata": {
        "id": "xXwuyPU419lH"
      }
    },
    {
      "cell_type": "code",
      "source": [
        "model = Sequential()\n",
        "\n",
        "model.add(Conv2D(6, kernel_size=(5, 5), strides=(1, 1), activation='relu', input_shape=(32, 32, 3)))\n",
        "model.add(MaxPooling2D(pool_size=(2, 2), strides=(2, 2)))\n",
        "\n",
        "model.add(Conv2D(16, kernel_size=(5, 5), strides=(1, 1), activation='relu'))\n",
        "model.add(MaxPooling2D(pool_size=(2, 2), strides=(2, 2)))\n",
        "\n",
        "model.add(Flatten())\n",
        "\n",
        "model.add(Dense(120, activation='relu'))\n",
        "model.add(Dense(84, activation='relu'))\n",
        "model.add(Dense(10, activation='softmax'))\n"
      ],
      "metadata": {
        "id": "Xj03pO7P2ACy"
      },
      "execution_count": null,
      "outputs": []
    },
    {
      "cell_type": "markdown",
      "source": [
        "**Kompilasi dan Latih Model**"
      ],
      "metadata": {
        "id": "hwy4sXan2CHQ"
      }
    },
    {
      "cell_type": "code",
      "source": [
        "model.compile(optimizer='adam', loss='categorical_crossentropy', metrics=['accuracy'])\n",
        "\n",
        "history = model.fit(X_train, y_train, batch_size=128, epochs=10, validation_data=(X_test, y_test))"
      ],
      "metadata": {
        "colab": {
          "base_uri": "https://localhost:8080/"
        },
        "id": "VvmyAud62FPx",
        "outputId": "4ae126e1-5473-4f2a-e638-c03729a89024"
      },
      "execution_count": null,
      "outputs": [
        {
          "output_type": "stream",
          "name": "stdout",
          "text": [
            "Epoch 1/10\n",
            "391/391 [==============================] - 39s 97ms/step - loss: 1.7595 - accuracy: 0.3586 - val_loss: 1.5744 - val_accuracy: 0.4337\n",
            "Epoch 2/10\n",
            "391/391 [==============================] - 45s 114ms/step - loss: 1.4907 - accuracy: 0.4630 - val_loss: 1.4119 - val_accuracy: 0.4972\n",
            "Epoch 3/10\n",
            "391/391 [==============================] - 33s 84ms/step - loss: 1.3808 - accuracy: 0.5059 - val_loss: 1.3570 - val_accuracy: 0.5101\n",
            "Epoch 4/10\n",
            "391/391 [==============================] - 34s 87ms/step - loss: 1.2967 - accuracy: 0.5386 - val_loss: 1.2849 - val_accuracy: 0.5409\n",
            "Epoch 5/10\n",
            "391/391 [==============================] - 33s 85ms/step - loss: 1.2290 - accuracy: 0.5640 - val_loss: 1.2219 - val_accuracy: 0.5683\n",
            "Epoch 6/10\n",
            "391/391 [==============================] - 35s 91ms/step - loss: 1.1778 - accuracy: 0.5823 - val_loss: 1.1914 - val_accuracy: 0.5783\n",
            "Epoch 7/10\n",
            "391/391 [==============================] - 34s 88ms/step - loss: 1.1301 - accuracy: 0.6003 - val_loss: 1.1668 - val_accuracy: 0.5886\n",
            "Epoch 8/10\n",
            "391/391 [==============================] - 35s 91ms/step - loss: 1.0863 - accuracy: 0.6160 - val_loss: 1.1554 - val_accuracy: 0.5959\n",
            "Epoch 9/10\n",
            "391/391 [==============================] - 33s 84ms/step - loss: 1.0576 - accuracy: 0.6277 - val_loss: 1.1622 - val_accuracy: 0.5927\n",
            "Epoch 10/10\n",
            "391/391 [==============================] - 36s 92ms/step - loss: 1.0213 - accuracy: 0.6412 - val_loss: 1.1342 - val_accuracy: 0.5993\n"
          ]
        }
      ]
    },
    {
      "cell_type": "markdown",
      "source": [
        "**Evaluasi Model**"
      ],
      "metadata": {
        "id": "u6SL10e02Iky"
      }
    },
    {
      "cell_type": "code",
      "source": [
        "score = model.evaluate(X_test, y_test, verbose=0)\n",
        "print('Test loss:', score[0])\n",
        "print('Test accuracy:', score[1])\n"
      ],
      "metadata": {
        "colab": {
          "base_uri": "https://localhost:8080/"
        },
        "id": "WnhnFcEo2JuI",
        "outputId": "699761db-51d5-4775-d2bf-ea8be1152856"
      },
      "execution_count": null,
      "outputs": [
        {
          "output_type": "stream",
          "name": "stdout",
          "text": [
            "Test loss: 1.1341644525527954\n",
            "Test accuracy: 0.5993000268936157\n"
          ]
        }
      ]
    },
    {
      "cell_type": "markdown",
      "source": [
        "**Visualisasi Hasil Pelatihan**"
      ],
      "metadata": {
        "id": "5Z9k-EeF2N2v"
      }
    },
    {
      "cell_type": "code",
      "source": [
        "plt.plot(history.history['accuracy'], label='accuracy')\n",
        "plt.plot(history.history['val_accuracy'], label='val_accuracy')\n",
        "plt.xlabel('Epoch')\n",
        "plt.ylabel('Accuracy')\n",
        "plt.ylim([0, 1])\n",
        "plt.legend(loc='lower right')\n",
        "plt.show()\n",
        "\n",
        "plt.plot(history.history['loss'], label='loss')\n",
        "plt.plot(history.history['val_loss'], label='val_loss')\n",
        "plt.xlabel('Epoch')\n",
        "plt.ylabel('Loss')\n",
        "plt.legend(loc='upper right')\n",
        "plt.show()"
      ],
      "metadata": {
        "colab": {
          "base_uri": "https://localhost:8080/",
          "height": 887
        },
        "id": "STBYnA9e2Oru",
        "outputId": "a0d4ed9a-d8e4-4e50-e90c-18197297f981"
      },
      "execution_count": null,
      "outputs": [
        {
          "output_type": "display_data",
          "data": {
            "text/plain": [
              "<Figure size 640x480 with 1 Axes>"
            ],
            "image/png": "[encoded data removed]"
          },
          "metadata": {}
        },
        {
          "output_type": "display_data",
          "data": {
            "text/plain": [
              "<Figure size 640x480 with 1 Axes>"
            ],
            "image/png": "[encoded data removed]"
          },
          "metadata": {}
        }
      ]
    }
  ],
  "metadata": {
    "kernelspec": {
      "language": "python",
      "display_name": "Python 3",
      "name": "python3"
    },
    "language_info": {
      "pygments_lexer": "ipython3",
      "nbconvert_exporter": "python",
      "version": "3.6.4",
      "file_extension": ".py",
      "codemirror_mode": {
        "name": "ipython",
        "version": 3
      },
      "name": "python",
      "mimetype": "text/x-python"
    },
    "colab": {
      "provenance": [],
      "include_colab_link": true
    }
  },
  "nbformat": 4,
  "nbformat_minor": 0
}