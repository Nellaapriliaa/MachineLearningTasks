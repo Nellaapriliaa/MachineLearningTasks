{
  "metadata": {
    "kernelspec": {
      "display_name": "Python 3",
      "language": "python",
      "name": "python3"
    },
    "language_info": {
      "name": "python",
      "version": "3.10.13",
      "mimetype": "text/x-python",
      "codemirror_mode": {
        "name": "ipython",
        "version": 3
      },
      "pygments_lexer": "ipython3",
      "nbconvert_exporter": "python",
      "file_extension": ".py"
    },
    "kaggle": {
      "accelerator": "none",
      "dataSources": [
        {
          "sourceId": 10211,
          "databundleVersionId": 111096,
          "sourceType": "competition"
        },
        {
          "sourceId": 15520,
          "sourceType": "datasetVersion",
          "datasetId": 11167
        },
        {
          "sourceId": 38454,
          "sourceType": "datasetVersion",
          "datasetId": 2709
        }
      ],
      "isInternetEnabled": false,
      "language": "python",
      "sourceType": "notebook",
      "isGpuEnabled": false
    },
    "colab": {
      "name": "Exercise: Underfitting and Overfitting",
      "provenance": [],
      "include_colab_link": true
    }
  },
  "nbformat_minor": 0,
  "nbformat": 4,
  "cells": [
    {
      "cell_type": "markdown",
      "metadata": {
        "id": "view-in-github",
        "colab_type": "text"
      },
      "source": [
        "<a href=\"https://colab.research.google.com/github/Nellaapriliaa/MachineLearningTasks/blob/main/TUGAS%201/Kaggle/4-Exercise%20Underfitting%20and%20Overfitting.ipynb\" target=\"_parent\"><img src=\"https://colab.research.google.com/assets/colab-badge.svg\" alt=\"Open In Colab\"/></a>"
      ]
    },
    {
      "source": [
        "\n",
        "# IMPORTANT: RUN THIS CELL IN ORDER TO IMPORT YOUR KAGGLE DATA SOURCES\n",
        "# TO THE CORRECT LOCATION (/kaggle/input) IN YOUR NOTEBOOK,\n",
        "# THEN FEEL FREE TO DELETE THIS CELL.\n",
        "# NOTE: THIS NOTEBOOK ENVIRONMENT DIFFERS FROM KAGGLE'S PYTHON\n",
        "# ENVIRONMENT SO THERE MAY BE MISSING LIBRARIES USED BY YOUR\n",
        "# NOTEBOOK.\n",
        "\n",
        "import os\n",
        "import sys\n",
        "from tempfile import NamedTemporaryFile\n",
        "from urllib.request import urlopen\n",
        "from urllib.parse import unquote, urlparse\n",
        "from urllib.error import HTTPError\n",
        "from zipfile import ZipFile\n",
        "import tarfile\n",
        "import shutil\n",
        "\n",
        "CHUNK_SIZE = 40960\n",
        "DATA_SOURCE_MAPPING = 'home-data-for-ml-course:https%3A%2F%2Fstorage.googleapis.com%2Fkaggle-competitions-data%2Fkaggle-v2%2F10211%2F111096%2Fbundle%2Farchive.zip%3FX-Goog-Algorithm%3DGOOG4-RSA-SHA256%26X-Goog-Credential%3Dgcp-kaggle-com%2540kaggle-161607.iam.gserviceaccount.com%252F20240406%252Fauto%252Fstorage%252Fgoog4_request%26X-Goog-Date%3D20240406T054408Z%26X-Goog-Expires%3D259200%26X-Goog-SignedHeaders%3Dhost%26X-Goog-Signature%3D863a71140ab649efb962a16757c95f5877f8143d015f5202d9b2a7e34ca9848284349bb78090a9fec727f016e6238cdf34b23968586555fe2e4f1710e8c8fba22c6a8e7c918638111cc52aae17b053f6e00986063d6333d9d4878a43450b204aafaa776eccdbefdeb133f58e163ab48e6107a77afab9c4334a84c6342cc0de639afb39ccceb30fe7f9d1438ca98863c3192c96a1cbf207e23a825492e7d9cd848320571ba20330a491f9d15d4ba3b951875e8d818b2c8fc7f2aac202c6467ed0a9ad1dc60d97daf1a845ff27c30cea59f0070484387643ca530c8659594ed0dab507eb36a106c488a439196ca2447a36e9d94c8450c3997383b3f3d5e70b409c,mobile-price-classification:https%3A%2F%2Fstorage.googleapis.com%2Fkaggle-data-sets%2F11167%2F15520%2Fbundle%2Farchive.zip%3FX-Goog-Algorithm%3DGOOG4-RSA-SHA256%26X-Goog-Credential%3Dgcp-kaggle-com%2540kaggle-161607.iam.gserviceaccount.com%252F20240406%252Fauto%252Fstorage%252Fgoog4_request%26X-Goog-Date%3D20240406T054408Z%26X-Goog-Expires%3D259200%26X-Goog-SignedHeaders%3Dhost%26X-Goog-Signature%3D147ae6c61ae25c911642b1c65fd06d9f73f6052aef744e1305cfd3a50ca9e81b6d0f4176b9ef5d180e14aa6e0fd63d8b14902f100714126994372d7895151a92b1843dce69cc64fb0da8c12e4e8d320c5d07418f7a6826725f4a274fa172b4b3ad8bab65c8c46ea78069fdc938a27c156c3e67c11227730b7e2d903216395db6de19cd5886b9e1429cba3bf8be4f3177bcf1a42b27cb5b660aae1491910bf9028c691e5c5c45c67e714830105c44029c2ae03a351422f246a909058eb310cfeafddf67e35482406df31011eb84bcc52b8a09fc0c1b7cb8d8dd3e1ad65f8e5d40b0bbcd25d588ceecb04de5d90ac5ee2c4662dc79dc22fe16781ceb7113efc459,melbourne-housing-snapshot:https%3A%2F%2Fstorage.googleapis.com%2Fkaggle-data-sets%2F2709%2F38454%2Fbundle%2Farchive.zip%3FX-Goog-Algorithm%3DGOOG4-RSA-SHA256%26X-Goog-Credential%3Dgcp-kaggle-com%2540kaggle-161607.iam.gserviceaccount.com%252F20240406%252Fauto%252Fstorage%252Fgoog4_request%26X-Goog-Date%3D20240406T054408Z%26X-Goog-Expires%3D259200%26X-Goog-SignedHeaders%3Dhost%26X-Goog-Signature%3Deeb8fa9c09fbfd0379416a8ed4a41a2712fdd0d6338efd57db779306ed4669a66024e73db975e0596b0fe2f1fb1560cba5b74a2bce1632a7953c06403415734b1ea68c448cddbeb0905f6c794a2734f48ee78d166e19e81749ff6f45d977bff685995aacc2b928d2ae77a70051dc1f75821417e68a1d4946557ec39749643c1b49ffcc5ebcbbc31aab9549aa2add01212735b6f0460915e3db659befed60dee7011196201a3bf91ad6caf7b510676237bfb5c6c5ef6a65b73c97772dfca68c2b4d0f7b955b023439c47b5f279d4072cb82a4449bf008b76e7e9849036fa52ec524b0dd2f24d3fc0b7fb962cfc8d363d9b4cd609efe38eadf3b760ea6c9025720'\n",
        "\n",
        "KAGGLE_INPUT_PATH='/kaggle/input'\n",
        "KAGGLE_WORKING_PATH='/kaggle/working'\n",
        "KAGGLE_SYMLINK='kaggle'\n",
        "\n",
        "!umount /kaggle/input/ 2> /dev/null\n",
        "shutil.rmtree('/kaggle/input', ignore_errors=True)\n",
        "os.makedirs(KAGGLE_INPUT_PATH, 0o777, exist_ok=True)\n",
        "os.makedirs(KAGGLE_WORKING_PATH, 0o777, exist_ok=True)\n",
        "\n",
        "try:\n",
        "  os.symlink(KAGGLE_INPUT_PATH, os.path.join(\"..\", 'input'), target_is_directory=True)\n",
        "except FileExistsError:\n",
        "  pass\n",
        "try:\n",
        "  os.symlink(KAGGLE_WORKING_PATH, os.path.join(\"..\", 'working'), target_is_directory=True)\n",
        "except FileExistsError:\n",
        "  pass\n",
        "\n",
        "for data_source_mapping in DATA_SOURCE_MAPPING.split(','):\n",
        "    directory, download_url_encoded = data_source_mapping.split(':')\n",
        "    download_url = unquote(download_url_encoded)\n",
        "    filename = urlparse(download_url).path\n",
        "    destination_path = os.path.join(KAGGLE_INPUT_PATH, directory)\n",
        "    try:\n",
        "        with urlopen(download_url) as fileres, NamedTemporaryFile() as tfile:\n",
        "            total_length = fileres.headers['content-length']\n",
        "            print(f'Downloading {directory}, {total_length} bytes compressed')\n",
        "            dl = 0\n",
        "            data = fileres.read(CHUNK_SIZE)\n",
        "            while len(data) > 0:\n",
        "                dl += len(data)\n",
        "                tfile.write(data)\n",
        "                done = int(50 * dl / int(total_length))\n",
        "                sys.stdout.write(f\"\\r[{'=' * done}{' ' * (50-done)}] {dl} bytes downloaded\")\n",
        "                sys.stdout.flush()\n",
        "                data = fileres.read(CHUNK_SIZE)\n",
        "            if filename.endswith('.zip'):\n",
        "              with ZipFile(tfile) as zfile:\n",
        "                zfile.extractall(destination_path)\n",
        "            else:\n",
        "              with tarfile.open(tfile.name) as tarfile:\n",
        "                tarfile.extractall(destination_path)\n",
        "            print(f'\\nDownloaded and uncompressed: {directory}')\n",
        "    except HTTPError as e:\n",
        "        print(f'Failed to load (likely expired) {download_url} to path {destination_path}')\n",
        "        continue\n",
        "    except OSError as e:\n",
        "        print(f'Failed to load {download_url} to path {destination_path}')\n",
        "        continue\n",
        "\n",
        "print('Data source import complete.')\n"
      ],
      "metadata": {
        "id": "eYyruqpm75Kn"
      },
      "cell_type": "code",
      "outputs": [],
      "execution_count": null
    },
    {
      "cell_type": "markdown",
      "source": [
        "**This notebook is an exercise in the [Introduction to Machine Learning](https://www.kaggle.com/learn/intro-to-machine-learning) course.  You can reference the tutorial at [this link](https://www.kaggle.com/dansbecker/underfitting-and-overfitting).**\n",
        "\n",
        "---\n"
      ],
      "metadata": {
        "id": "_yDRPVHg75Kp"
      }
    },
    {
      "cell_type": "markdown",
      "source": [
        "## Recap\n",
        "You've built your first model, and now it's time to optimize the size of the tree to make better predictions. Run this cell to set up your coding environment where the previous step left off."
      ],
      "metadata": {
        "id": "wRSwTPtN75Kr"
      }
    },
    {
      "cell_type": "code",
      "source": [
        "# Code you have previously used to load data\n",
        "import pandas as pd\n",
        "from sklearn.metrics import mean_absolute_error\n",
        "from sklearn.model_selection import train_test_split\n",
        "from sklearn.tree import DecisionTreeRegressor\n",
        "\n",
        "\n",
        "# Path of the file to read\n",
        "iowa_file_path = '../input/home-data-for-ml-course/train.csv'\n",
        "\n",
        "home_data = pd.read_csv(iowa_file_path)\n",
        "# Create target object and call it y\n",
        "y = home_data.SalePrice\n",
        "# Create X\n",
        "features = ['LotArea', 'YearBuilt', '1stFlrSF', '2ndFlrSF', 'FullBath', 'BedroomAbvGr', 'TotRmsAbvGrd']\n",
        "X = home_data[features]\n",
        "\n",
        "# Split into validation and training data\n",
        "train_X, val_X, train_y, val_y = train_test_split(X, y, random_state=1)\n",
        "\n",
        "# Specify Model\n",
        "iowa_model = DecisionTreeRegressor(random_state=1)\n",
        "# Fit Model\n",
        "iowa_model.fit(train_X, train_y)\n",
        "\n",
        "# Make validation predictions and calculate mean absolute error\n",
        "val_predictions = iowa_model.predict(val_X)\n",
        "val_mae = mean_absolute_error(val_predictions, val_y)\n",
        "print(\"Validation MAE: {:,.0f}\".format(val_mae))\n",
        "\n",
        "# Set up code checking\n",
        "from learntools.core import binder\n",
        "binder.bind(globals())\n",
        "from learntools.machine_learning.ex5 import *\n",
        "print(\"\\nSetup complete\")"
      ],
      "metadata": {
        "execution": {
          "iopub.status.busy": "2024-04-06T05:42:12.369788Z",
          "iopub.execute_input": "2024-04-06T05:42:12.370274Z",
          "iopub.status.idle": "2024-04-06T05:42:15.645472Z",
          "shell.execute_reply.started": "2024-04-06T05:42:12.370234Z",
          "shell.execute_reply": "2024-04-06T05:42:15.643994Z"
        },
        "trusted": true,
        "id": "mg6F3K0Q75Kr",
        "outputId": "8b246f15-217f-46de-e508-0b0e37b8b951"
      },
      "execution_count": null,
      "outputs": [
        {
          "name": "stdout",
          "text": "Validation MAE: 29,653\n\nSetup complete\n",
          "output_type": "stream"
        }
      ]
    },
    {
      "cell_type": "markdown",
      "source": [
        "# Exercises\n",
        "You could write the function `get_mae` yourself. For now, we'll supply it. This is the same function you read about in the previous lesson. Just run the cell below."
      ],
      "metadata": {
        "id": "OpxUgBVe75Ks"
      }
    },
    {
      "cell_type": "code",
      "source": [
        "def get_mae(max_leaf_nodes, train_X, val_X, train_y, val_y):\n",
        "    model = DecisionTreeRegressor(max_leaf_nodes=max_leaf_nodes, random_state=0)\n",
        "    model.fit(train_X, train_y)\n",
        "    preds_val = model.predict(val_X)\n",
        "    mae = mean_absolute_error(val_y, preds_val)\n",
        "    return(mae)"
      ],
      "metadata": {
        "execution": {
          "iopub.status.busy": "2024-04-06T05:42:24.90156Z",
          "iopub.execute_input": "2024-04-06T05:42:24.902706Z",
          "iopub.status.idle": "2024-04-06T05:42:24.910247Z",
          "shell.execute_reply.started": "2024-04-06T05:42:24.902649Z",
          "shell.execute_reply": "2024-04-06T05:42:24.908768Z"
        },
        "trusted": true,
        "id": "NI03Jsji75Ks"
      },
      "execution_count": null,
      "outputs": []
    },
    {
      "cell_type": "markdown",
      "source": [
        "## Step 1: Compare Different Tree Sizes\n",
        "Write a loop that tries the following values for *max_leaf_nodes* from a set of possible values.\n",
        "\n",
        "Call the *get_mae* function on each value of max_leaf_nodes. Store the output in some way that allows you to select the value of `max_leaf_nodes` that gives the most accurate model on your data."
      ],
      "metadata": {
        "id": "itJrNxYq75Ks"
      }
    },
    {
      "cell_type": "code",
      "source": [
        "import operator\n",
        "\n",
        "candidate_max_leaf_nodes = [5, 25, 50, 100, 250, 500]\n",
        "# Write loop to find the ideal tree size from candidate_max_leaf_nodes\n",
        "size_scores = {k: get_mae(k, train_X, val_X, train_y, val_y) for k in candidate_max_leaf_nodes}\n",
        "\n",
        "# Store the best value of max_leaf_nodes (it will be either 5, 25, 50, 100, 250 or 500)\n",
        "best_tree_size = min(size_scores.items(), key=operator.itemgetter(1))[0]\n",
        "\n",
        "step_1.check()"
      ],
      "metadata": {
        "execution": {
          "iopub.status.busy": "2024-03-06T13:56:51.111069Z",
          "iopub.execute_input": "2024-03-06T13:56:51.111533Z",
          "iopub.status.idle": "2024-03-06T13:56:51.164185Z",
          "shell.execute_reply.started": "2024-03-06T13:56:51.111497Z",
          "shell.execute_reply": "2024-03-06T13:56:51.163223Z"
        },
        "trusted": true,
        "id": "p8iSlaAm75Kt",
        "outputId": "0b101e60-29ce-43a0-c3d6-20e1f4f069ad"
      },
      "execution_count": null,
      "outputs": [
        {
          "output_type": "display_data",
          "data": {
            "text/plain": "<IPython.core.display.Javascript object>",
            "application/javascript": "parent.postMessage({\"jupyterEvent\": \"custom.exercise_interaction\", \"data\": {\"outcomeType\": 1, \"valueTowardsCompletion\": 0.5, \"interactionType\": 1, \"questionType\": 1, \"questionId\": \"1_BestTreeSize\", \"learnToolsVersion\": \"0.3.4\", \"failureMessage\": \"\", \"exceptionClass\": \"\", \"trace\": \"\"}}, \"*\")"
          },
          "metadata": {}
        },
        {
          "output_type": "display_data",
          "data": {
            "text/plain": "Correct",
            "text/markdown": "<span style=\"color:#33cc33\">Correct</span>"
          },
          "metadata": {}
        }
      ]
    },
    {
      "cell_type": "code",
      "source": [
        "# The lines below will show you a hint or the solution.\n",
        "# step_1.hint()\n",
        "# step_1.solution()"
      ],
      "metadata": {
        "id": "bFd_WNyc75Kt"
      },
      "execution_count": null,
      "outputs": []
    },
    {
      "cell_type": "markdown",
      "source": [
        "## Step 2: Fit Model Using All Data\n",
        "You know the best tree size. If you were going to deploy this model in practice, you would make it even more accurate by using all of the data and keeping that tree size.  That is, you don't need to hold out the validation data now that you've made all your modeling decisions."
      ],
      "metadata": {
        "id": "JdRq1G1675Kt"
      }
    },
    {
      "cell_type": "code",
      "source": [],
      "metadata": {
        "id": "yEz1NSUB75Kt"
      },
      "execution_count": null,
      "outputs": []
    },
    {
      "cell_type": "code",
      "source": [
        "# step_2.hint()\n",
        "# step_2.solution()"
      ],
      "metadata": {
        "id": "dMxWsKdZ75Kt"
      },
      "execution_count": null,
      "outputs": []
    },
    {
      "cell_type": "markdown",
      "source": [
        "You've tuned this model and improved your results. But we are still using Decision Tree models, which are not very sophisticated by modern machine learning standards. In the next step you will learn to use Random Forests to improve your models even more.\n",
        "\n",
        "# Keep Going\n",
        "\n",
        "You are ready for **[Random Forests](https://www.kaggle.com/dansbecker/random-forests).**\n"
      ],
      "metadata": {
        "id": "CuH2ajk775Ku"
      }
    },
    {
      "cell_type": "markdown",
      "source": [
        "---\n",
        "\n",
        "\n",
        "\n",
        "\n",
        "*Have questions or comments? Visit the [course discussion forum](https://www.kaggle.com/learn/intro-to-machine-learning/discussion) to chat with other learners.*"
      ],
      "metadata": {
        "id": "j_6hcLCy75Ku"
      }
    }
  ]
}